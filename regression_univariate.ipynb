{
 "cells": [
  {
   "cell_type": "code",
   "execution_count": 1,
   "metadata": {},
   "outputs": [],
   "source": [
    "import numpy as np\n",
    "import pandas as pd\n",
    "import matplotlib.pyplot as plt"
   ]
  },
  {
   "cell_type": "code",
   "execution_count": 2,
   "metadata": {},
   "outputs": [
    {
     "name": "stdout",
     "output_type": "stream",
     "text": [
      "<class 'pandas.core.frame.DataFrame'>\n",
      "RangeIndex: 14 entries, 0 to 13\n",
      "Data columns (total 2 columns):\n",
      "Units      14 non-null int64\n",
      "Minutes    14 non-null int64\n",
      "dtypes: int64(2)\n",
      "memory usage: 304.0 bytes\n"
     ]
    }
   ],
   "source": [
    "df = pd.read_csv(\"computers.csv\")\n",
    "df.info()"
   ]
  },
  {
   "cell_type": "code",
   "execution_count": 3,
   "metadata": {},
   "outputs": [],
   "source": [
    "class LinearRegressionUnivariate:\n",
    "    \n",
    "    def __init__(self):\n",
    "        self.m = 0    # slope\n",
    "        self.c = 0    # intercept\n",
    "        self.score = None\n",
    "        \n",
    "    def fit_gd(self, X, Y, learning_rate = 0.01):\n",
    "        \"\"\" Gradient descent implementation of linear regression \"\"\"\n",
    "        m = self.m\n",
    "        c = self.c\n",
    "        n = len(X)\n",
    "        for i in range(5000):\n",
    "            yhat = m*X + c\n",
    "            error =  (1/n)*sum((Y-yhat)**2)\n",
    "            dm = (-2/n)*sum(X*(Y - yhat))  # derivative of \"error function\" w.r.t m(Slope) \n",
    "            dc = (-2/n)*sum(Y-yhat)        # derivative of \"error function\" w.r.t c(intercept)\n",
    "            m = m - learning_rate * dm \n",
    "            c = c - learning_rate * dc\n",
    "            \n",
    "            if i%1000==0:\n",
    "                print(\"error : {}\\tslope(m) = {}\\tintercept(c) == {}\".format(error,m,c))\n",
    "            \n",
    "        self.m = m\n",
    "        self.c = c\n",
    "        self.score = self.r_squared_score(X)\n",
    "        \n",
    "    def fit_ls(self, X, Y):\n",
    "        \"\"\" least squares implementation of linear regression \"\"\"\n",
    "        n = len(X)\n",
    "        numerator = sum(X*Y) - n*np.mean(X)*np.mean(Y)\n",
    "        denominator = sum(X**2) - n*(np.mean(X)**2)\n",
    "        m = numerator/denominator\n",
    "        c = np.mean(Y) - m*np.mean(X)\n",
    "        self.m = m\n",
    "        self.c = c\n",
    "        self.score = self.r_squared_score(X)\n",
    "        \n",
    "    def predict(self,X):\n",
    "        \"\"\" Makes predictions for an list of values of X, inputs a list, outputs a numpy array \"\"\"\n",
    "        return np.array([self.m*x + self.c for x in X])\n",
    "\n",
    "    def r_squared_score(self, X):\n",
    "        y_hat = np.array([self.m*x + self.c for x in X])\n",
    "        ss_r = sum((Y-y_hat)**2)         # sum of square regressor = summation(y-yhat)^2\n",
    "        ss_t = sum((Y-np.mean(Y))**2)    # sum of square total = summation(y-y_mean)^2\n",
    "        r_square = 1-(ss_r/ss_t)\n",
    "        return r_square"
   ]
  },
  {
   "cell_type": "code",
   "execution_count": 4,
   "metadata": {},
   "outputs": [],
   "source": [
    "clf = LinearRegressionUnivariate()"
   ]
  },
  {
   "cell_type": "code",
   "execution_count": 5,
   "metadata": {},
   "outputs": [
    {
     "name": "stdout",
     "output_type": "stream",
     "text": [
      "error : 11434.071428571428\tslope(m) = 14.191428571428572\tintercept(c) == 1.9442857142857142\n",
      "error : 24.918264919439387\tslope(m) = 15.516020445254272\tintercept(c) == 4.108544563809838\n",
      "error : 24.91774115000685\tslope(m) = 15.508964382410223\tintercept(c) == 4.160244043235595\n",
      "error : 24.917740780783213\tslope(m) = 15.508777039560217\tintercept(c) == 4.161616696517412\n",
      "error : 24.917740780522916\tslope(m) = 15.508772065491215\tintercept(c) == 4.161653141314401\n",
      "\n",
      "R squared score = 0.9874371980620736\n"
     ]
    }
   ],
   "source": [
    "X = np.array(df[\"Units\"])\n",
    "Y = np.array(df[\"Minutes\"])\n",
    "clf.fit_gd(X,Y)\n",
    "print(\"\\nR squared score = {}\".format(clf.score))"
   ]
  },
  {
   "cell_type": "code",
   "execution_count": 6,
   "metadata": {},
   "outputs": [
    {
     "name": "stdout",
     "output_type": "stream",
     "text": [
      "R squared score = 0.9874371980620736\n"
     ]
    }
   ],
   "source": [
    "clf2 = LinearRegressionUnivariate()\n",
    "clf2.fit_ls(X,Y)\n",
    "print(\"R squared score = {}\".format(clf.score))"
   ]
  },
  {
   "cell_type": "code",
   "execution_count": 7,
   "metadata": {},
   "outputs": [],
   "source": [
    "X_pred = [0,2,2,3,5,6,7,8,9,11]\n",
    "y_pred = clf.predict(X_pred)"
   ]
  },
  {
   "cell_type": "code",
   "execution_count": 8,
   "metadata": {},
   "outputs": [
    {
     "name": "stdout",
     "output_type": "stream",
     "text": [
      "slope : 15.508771933439691 \tintercept : 4.161654108850452\n"
     ]
    },
    {
     "data": {
      "image/png": "[encoded data removed]",
      "text/plain": [
       "<matplotlib.figure.Figure at 0x15ff185ccc0>"
      ]
     },
     "metadata": {},
     "output_type": "display_data"
    }
   ],
   "source": [
    "plt.scatter(X,Y, color = \"blue\", label = \"actual data points\")\n",
    "plt.plot([min(X_pred), max(X_pred)], [min(y_pred), max(y_pred)], color = \"green\", label = \"predicted y_hat line\")\n",
    "plt.xlabel(\"X\")\n",
    "plt.ylabel(\"Y\")\n",
    "plt.legend()\n",
    "print(\"slope : {} \\tintercept : {}\".format(clf.m, clf.c))"
   ]
  }
 ],
 "metadata": {
  "kernelspec": {
   "display_name": "Python 3",
   "language": "python",
   "name": "python3"
  },
  "language_info": {
   "codemirror_mode": {
    "name": "ipython",
    "version": 3
   },
   "file_extension": ".py",
   "mimetype": "text/x-python",
   "name": "python",
   "nbconvert_exporter": "python",
   "pygments_lexer": "ipython3",
   "version": "3.6.4"
  }
 },
 "nbformat": 4,
 "nbformat_minor": 2
}
