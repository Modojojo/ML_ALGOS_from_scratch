{
 "cells": [
  {
   "cell_type": "markdown",
   "metadata": {},
   "source": [
    "### Simple Decision Tree from Scratch using Entropy and Information Gain"
   ]
  },
  {
   "cell_type": "code",
   "execution_count": 1,
   "metadata": {},
   "outputs": [],
   "source": [
    "import pandas as pd\n",
    "import numpy as np"
   ]
  },
  {
   "cell_type": "code",
   "execution_count": 2,
   "metadata": {},
   "outputs": [],
   "source": [
    "class Node:\n",
    "    def __init__(self, value):\n",
    "        self.value = value     # stores the name of the column from df\n",
    "        self.categories = []   # stores the unique values for a column\n",
    "        self.next = []         # stores the childs of this node"
   ]
  },
  {
   "cell_type": "code",
   "execution_count": 3,
   "metadata": {},
   "outputs": [],
   "source": [
    "# CREATE DECISION TREE\n",
    "\n",
    "root = None\n",
    "\n",
    "def calcEntropy(p):\n",
    "    return -p*np.log2(p)\n",
    "\n",
    "\n",
    "# Select the best feature based on Entropy and Information gain\n",
    "def select_best_feature(df, targetClassName):\n",
    "    columns = []\n",
    "    igPerColumn = []\n",
    "    \n",
    "    # calculate entropy and information gain\n",
    "    for col in df.drop(targetClassName, axis = 1):\n",
    "        information_gain = 0\n",
    "        for category in df[col].unique():\n",
    "            entropy = 0\n",
    "            \n",
    "            # this loop calculates entropy for different classes for particular category\n",
    "            for cls in df[targetClassName].unique():\n",
    "                numerator = df[col][ (df[col] == category) & (df[targetClassName] == cls) ].count()\n",
    "                denominator = df[col][df[col] == category].count()\n",
    "                \n",
    "                # calculate entropies\n",
    "                if numerator == 0:\n",
    "                    entropy += 0\n",
    "                else:\n",
    "                    entropy += calcEntropy(numerator/denominator)\n",
    "            \n",
    "            # calculate information gain for that particular categorical value in that column\n",
    "            # add into same variable for all the categories in that column.\n",
    "            information_gain += ( df[col][df[col] == category].count() / df[col].count() ) * (entropy)\n",
    "            \n",
    "        # append column name and information gain values to respective lists.\n",
    "        columns.append(col)\n",
    "        igPerColumn.append(1 - information_gain)\n",
    "    \n",
    "    # returns the column name with highest information gain\n",
    "    return columns[np.argmax(igPerColumn)]\n",
    "\n",
    "\n",
    "# Builds the tree recursively.\n",
    "def make_tree(df, targetClassName):\n",
    "    \n",
    "    global root\n",
    "    # initialize root.\n",
    "    if root == None:\n",
    "        best_feature = select_best_feature(df, targetClassName)\n",
    "        root = Node(best_feature)\n",
    "        node = root\n",
    "    \n",
    "    else:\n",
    "        best_feature = select_best_feature(df, targetClassName)\n",
    "        node = Node(best_feature)\n",
    "        \n",
    "    # Create the leaf of that node : LOGIC : if only one class is fetched for the new df : it is the leaf.\n",
    "    # if only one class is found for the dataframe i.e, leaf node is found\n",
    "    if len(df[targetClassName].unique()) == 1:\n",
    "        return df[targetClassName].unique()[0]\n",
    "    \n",
    "    \n",
    "    \n",
    "    for category in df[best_feature].unique():\n",
    "        \n",
    "        # append the category value for this node\n",
    "        node.categories.append(category)\n",
    "        \n",
    "        # create a new dataframe with selected category value for the best feature and then remove the best fetaure.\n",
    "        new_df = df[df[best_feature] == category].drop(best_feature, axis = 1)\n",
    "        \n",
    "        # recursively create the whole tree\n",
    "        node.next.append(make_tree(new_df, targetClassName))\n",
    "        \n",
    "    return node"
   ]
  },
  {
   "cell_type": "code",
   "execution_count": 4,
   "metadata": {},
   "outputs": [],
   "source": [
    "# PREDICTION FUNCTIONALITY\n",
    "\n",
    "# main function to start the tree creation  \n",
    "def fit(df, targetClassName):\n",
    "    global root\n",
    "    root = None\n",
    "    make_tree(df, targetClassName)\n",
    "\n",
    "\n",
    "# prediction helper function\n",
    "def prediction_maker(node, df):\n",
    "    \n",
    "    # if the node is a lef node : i.e., it will contain the class label only, and its type will be the class type and not Node.\n",
    "    # if leaf node is found, Return it.\n",
    "    if type(node) != type(Node('a')):\n",
    "        return node\n",
    "    else:\n",
    "        category = df[node.value].values[0]        # Get the category value for the current nodes value (column name).\n",
    "        \n",
    "        # apply the filters to the dataframe and obtain the filtered out dataframe.\n",
    "        new_df = df[df[node.value] == category].drop(node.value, axis = 1)\n",
    "        idx = None                                 # this will be used for indexing the next (child) value for that category.\n",
    "        for i in range(len(node.categories)):\n",
    "            if category == node.categories[i]:\n",
    "                idx = i\n",
    "                \n",
    "        # Cecursively find the leaf node.\n",
    "        ret_class = prediction_maker(node.next[idx], new_df)\n",
    "        return ret_class\n",
    "                    \n",
    "    \n",
    "# function created for prediction\n",
    "def predict(df):\n",
    "    global root\n",
    "    pred = prediction_maker(root, df)\n",
    "    return pred"
   ]
  },
  {
   "cell_type": "code",
   "execution_count": 5,
   "metadata": {},
   "outputs": [],
   "source": [
    "df = pd.DataFrame([['sunny',    'hot',   'high', 'false',  'no'],\n",
    "                     ['sunny',    'hot',   'high',  'true',  'no'],\n",
    "                     ['overcast', 'hot',   'high', 'false', 'yes'],\n",
    "                     ['rainy',   'mild',   'high', 'false', 'yes'],\n",
    "                     ['rainy',   'cool', 'normal', 'false', 'yes'],\n",
    "                     ['rainy',   'cool', 'normal',  'true',  'no'],\n",
    "                     ['overcast','cool', 'normal',  'true', 'yes'],\n",
    "                     ['sunny',   'mild',   'high', 'false',  'no'],\n",
    "                     ['sunny',   'cool', 'normal', 'false', 'yes'],\n",
    "                     ['rainy',   'mild', 'normal', 'false', 'yes'],\n",
    "                     ['sunny',   'mild', 'normal',  'true', 'yes'],\n",
    "                     ['overcast','mild',   'high',  'true', 'yes'],\n",
    "                     ['overcast', 'hot', 'normal', 'false', 'yes'],\n",
    "                     ['rainy',   'mild',   'high',  'true',  'no']],\n",
    "                     columns = ['outlook', 'temperature', 'humidity', 'windy', 'play'])\n",
    "\n",
    "# fit the data to the tree\n",
    "fit(df, 'play')"
   ]
  },
  {
   "cell_type": "code",
   "execution_count": 6,
   "metadata": {},
   "outputs": [
    {
     "name": "stdout",
     "output_type": "stream",
     "text": [
      "play :  no\n",
      "play :  yes\n"
     ]
    }
   ],
   "source": [
    "# Make Predictions\n",
    "\n",
    "out = predict(df = pd.DataFrame([['sunny',    'hot',   'high', 'false']],\n",
    "                     columns = ['outlook', 'temperature', 'humidity', 'windy']))\n",
    "print(\"play : \", out)\n",
    "\n",
    "out = predict(df = pd.DataFrame([['rainy',   'mild',   'high', 'false']],\n",
    "                     columns = ['outlook', 'temperature', 'humidity', 'windy']))\n",
    "print(\"play : \", out)"
   ]
  }
 ],
 "metadata": {
  "kernelspec": {
   "display_name": "Python 3",
   "language": "python",
   "name": "python3"
  },
  "language_info": {
   "codemirror_mode": {
    "name": "ipython",
    "version": 3
   },
   "file_extension": ".py",
   "mimetype": "text/x-python",
   "name": "python",
   "nbconvert_exporter": "python",
   "pygments_lexer": "ipython3",
   "version": "3.6.4"
  }
 },
 "nbformat": 4,
 "nbformat_minor": 2
}
