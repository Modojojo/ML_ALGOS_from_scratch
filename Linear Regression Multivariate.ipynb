{
 "cells": [
  {
   "cell_type": "code",
   "execution_count": 1,
   "metadata": {},
   "outputs": [],
   "source": [
    "import numpy as np\n",
    "import pandas as pd\n",
    "from sklearn.preprocessing import StandardScaler\n",
    "from sklearn.model_selection import train_test_split\n",
    "from sklearn.datasets import make_regression"
   ]
  },
  {
   "cell_type": "code",
   "execution_count": 7,
   "metadata": {},
   "outputs": [
    {
     "data": {
      "text/plain": [
       "((2000, 4), (2000,))"
      ]
     },
     "execution_count": 7,
     "metadata": {},
     "output_type": "execute_result"
    }
   ],
   "source": [
    "X, y, coef = make_regression(n_samples=2000, n_features=4,coef = True)\n",
    "X.shape, y.shape"
   ]
  },
  {
   "cell_type": "code",
   "execution_count": 10,
   "metadata": {},
   "outputs": [
    {
     "name": "stdout",
     "output_type": "stream",
     "text": [
      "[1.23022151 0.32724511 0.45765689 1.96323668] -0.09537950441051153\n",
      "[69.77010796 17.99862908 22.4399487  96.81935251] -0.0035163658383356084\n",
      "[69.77973868 17.99981835 22.44080707 96.82337213] -6.172121230545702e-07\n",
      "[69.77974006 17.9998184  22.44080713 96.82337241] -9.269531837954815e-11\n",
      "[69.77974006 17.9998184  22.44080713 96.82337241] -3.388620439745515e-14\n",
      "[69.77974006 17.9998184  22.44080713 96.82337241] -2.4415947874030026e-14\n",
      "[69.77974006 17.9998184  22.44080713 96.82337241] -2.4096402927970995e-14\n",
      "[69.77974006 17.9998184  22.44080713 96.82337241] -2.398106962950411e-14\n",
      "[69.77974006 17.9998184  22.44080713 96.82337241] -2.3981069629504504e-14\n",
      "[69.77974006 17.9998184  22.44080713 96.82337241] -2.39810696295049e-14\n"
     ]
    }
   ],
   "source": [
    "# initializing weights and intercept with '0' as global variables\n",
    "weights = np.array([0 for i in range(len(X[0]))])\n",
    "intercept = 0\n",
    "lr = 0.01\n",
    "\n",
    "for i in range(5000): \n",
    "\n",
    "    yhat = np.dot(X, weights.T) + intercept                        \n",
    "\n",
    "    dw = -(2/len(X)) * np.dot( X.T, (y - yhat) )                   # derivatives of loss w.r.t. weights \n",
    "    dc = -(2/len(X)) * np.sum( y - yhat )                          # derivative of loss w.r.t. intercept\n",
    "\n",
    "    # parameter update\n",
    "    weights = weights - lr * dw\n",
    "    intercept = intercept - lr * dc\n",
    "\n",
    "    if i%500==0:\n",
    "        print(weights, intercept)"
   ]
  },
  {
   "cell_type": "code",
   "execution_count": 11,
   "metadata": {},
   "outputs": [
    {
     "data": {
      "text/plain": [
       "array([69.77974006, 17.9998184 , 22.44080713, 96.82337241])"
      ]
     },
     "execution_count": 11,
     "metadata": {},
     "output_type": "execute_result"
    }
   ],
   "source": [
    "# we can compare the values from our model and the model trained by sklearn (values stored in coef variable)\n",
    "coef"
   ]
  }
 ],
 "metadata": {
  "kernelspec": {
   "display_name": "Python 3",
   "language": "python",
   "name": "python3"
  },
  "language_info": {
   "codemirror_mode": {
    "name": "ipython",
    "version": 3
   },
   "file_extension": ".py",
   "mimetype": "text/x-python",
   "name": "python",
   "nbconvert_exporter": "python",
   "pygments_lexer": "ipython3",
   "version": "3.6.4"
  }
 },
 "nbformat": 4,
 "nbformat_minor": 2
}
