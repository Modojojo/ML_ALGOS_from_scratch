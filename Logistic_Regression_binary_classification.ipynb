{
 "cells": [
  {
   "cell_type": "code",
   "execution_count": 29,
   "metadata": {},
   "outputs": [],
   "source": [
    "import numpy as np\n",
    "import pandas as pd\n",
    "import matplotlib.pyplot as plt\n",
    "from sklearn.model_selection import train_test_split\n",
    "from sklearn.datasets import make_classification\n",
    "plt.style.use('seaborn-dark')"
   ]
  },
  {
   "cell_type": "markdown",
   "metadata": {},
   "source": [
    "## Logistic Regression "
   ]
  },
  {
   "cell_type": "code",
   "execution_count": 30,
   "metadata": {},
   "outputs": [],
   "source": [
    "class LogisticRegression:\n",
    "    \n",
    "    def __init__(self):\n",
    "        self.alpha = 0.01               # learning_rate Alpha\n",
    "        self.theta = None               # List of Parameters = {θ1, θ2, θ3 .... θn}\n",
    "        self.theta0 = None              # θ0\n",
    "        self.epochs = 10000             # iterations\n",
    "        self.cost_history = []          # contains details of cost for each iteration\n",
    "        \n",
    "    def fit(self, x, y):\n",
    "        ''' \n",
    "        fits data into the classifier.\n",
    "        Then apply Gradient descent to update the minimize the cost and update the parameters\n",
    "        '''\n",
    "        \n",
    "        n_features = len(x[0])          # number of features.\n",
    "        theta = np.zeros(n_features)    # populating the parameters with 0 and shape equal to that of number of features.\n",
    "        theta0 = 0\n",
    "        \n",
    "        # GRADIENT DESCENT\n",
    "        for i in range(self.epochs):\n",
    "            thetaX = np.dot(x, theta) + theta0      # z = θ.X +  θ0\n",
    "            h_thetaX = self.sigmoid(thetaX)         # h(θ.X) = sigmoid(z) or 1 / 1 + e^-z\n",
    "            \n",
    "            self.cost_history.append(self.cost(h_thetaX, y))      # populating the cost_history list\n",
    "            \n",
    "            d_theta = (1/len(x))*np.dot(x.T ,(h_thetaX - y))      # Calculating [ d(J(θ))/dθ ]\n",
    "            d_theta0 = (1/len(x))*np.sum(h_thetaX - y)             \n",
    "            \n",
    "            # UPDATING PARAMETERS \n",
    "            theta = theta - self.alpha * d_theta\n",
    "            theta0 = theta0 - self.alpha * d_theta0\n",
    "        \n",
    "        # saving parameters in class variables.\n",
    "        self.theta = theta  \n",
    "        self.theta0 = theta0\n",
    "        return\n",
    "        \n",
    "    def predict(self, x):\n",
    "        h_thetaX = self.sigmoid(np.dot(x, self.theta) + self.theta0)   # sigmoid (x.θ + θ0)\n",
    "        return np.round(h_thetaX)                                      # 0 if <.5, 1 if >=.5\n",
    "    \n",
    "    def sigmoid(self, z):\n",
    "        return 1 / (1 + np.exp(-z))\n",
    "    \n",
    "    def cost(self, h_thetaX, y):\n",
    "        log = np.log\n",
    "        cost = -1/(len(y))*(np.dot(y,log(h_thetaX)) + np.dot((1-y), log(1-h_thetaX)))\n",
    "        return cost\n",
    "    \n",
    "    def score(self, x, y):\n",
    "        # Outputs accuracy.\n",
    "        h_thetaX = self.sigmoid(np.dot(x, self.theta) + self.theta0)\n",
    "        preds = np.round(h_thetaX)\n",
    "        preds = preds.astype('int')\n",
    "        true_preds = [1 if preds[i] == y[i] else 0 for i in range(len(preds))]\n",
    "        score = np.sum(true_preds)/len(true_preds)\n",
    "        return score"
   ]
  },
  {
   "cell_type": "markdown",
   "metadata": {},
   "source": [
    "### Fitting Data into the classifier and checking the performance."
   ]
  },
  {
   "cell_type": "code",
   "execution_count": 31,
   "metadata": {},
   "outputs": [
    {
     "name": "stdout",
     "output_type": "stream",
     "text": [
      "Accuracy :  0.835\n"
     ]
    },
    {
     "data": {
      "image/png": "[encoded data removed]",
      "text/plain": [
       "<matplotlib.figure.Figure at 0x22be1ff4668>"
      ]
     },
     "metadata": {},
     "output_type": "display_data"
    }
   ],
   "source": [
    "# Testing on another randomly generated dataset for classification.\n",
    "\n",
    "data_x, data_y  = make_classification(n_samples = 1000, n_features = 14, n_redundant = 0, n_repeated = 0,n_classes = 2)\n",
    "xtrain, xtest, ytrain, ytest = train_test_split(data_x, data_y, test_size = 0.2)\n",
    "\n",
    "clf1 = LogisticRegression()\n",
    "clf1.fit(xtrain,ytrain)\n",
    "\n",
    "print(\"Accuracy : \",clf1.score(xtest,ytest))\n",
    "plt.plot(clf1.cost_history)\n",
    "plt.grid()\n",
    "plt.show()"
   ]
  },
  {
   "cell_type": "markdown",
   "metadata": {},
   "source": [
    "### Using the classifier on the Wisconsin Breast Cancer dataset."
   ]
  },
  {
   "cell_type": "code",
   "execution_count": 32,
   "metadata": {},
   "outputs": [
    {
     "name": "stdout",
     "output_type": "stream",
     "text": [
      "Accuracy = 0.95\n"
     ]
    },
    {
     "data": {
      "image/png": "[encoded data removed]",
      "text/plain": [
       "<matplotlib.figure.Figure at 0x22be33dddd8>"
      ]
     },
     "metadata": {},
     "output_type": "display_data"
    }
   ],
   "source": [
    "df = pd.read_csv('breast-cancer-wisconsin.txt', header = None)\n",
    "\n",
    "column_names = ['id',\n",
    "                 'clump_thickness',\n",
    "                 'cell_size_uniformity',\n",
    "                 'cell_shape_uniformity',\n",
    "                 'marginal_adhesion',\n",
    "                 'single_epithelial_cell_size',\n",
    "                 'bare_nuclei','bland_chromatin','normal_nucleoli','mitoses','class']\n",
    "\n",
    "df.columns = column_names\n",
    "\n",
    "df['class'].replace({2,4}, {0,1}, inplace = True)         \n",
    "\n",
    "# Dropping rows that contains missing feature.\n",
    "df.drop(df.iloc[:,6][df.iloc[:,6] == '?'].index.values, inplace = True, axis = 0)\n",
    "df = df.astype('int32')\n",
    "\n",
    "X = np.array(df.drop(['class','id'], axis = 1))\n",
    "Y = np.array(df['class']);\n",
    "\n",
    "X_train, X_test, y_train, y_test = train_test_split(X,Y,test_size = 0.3)\n",
    "\n",
    "clf = LogisticRegression()\n",
    "clf.fit(X_train,y_train)\n",
    "print(\"Accuracy = {:.2f}\".format(clf.score(X_test, y_test)))\n",
    "\n",
    "plt.plot(clf.cost_history)\n",
    "plt.xlabel('Iterations')\n",
    "plt.ylabel('Cost')\n",
    "plt.grid()\n",
    "plt.show()"
   ]
  }
 ],
 "metadata": {
  "kernelspec": {
   "display_name": "Python 3",
   "language": "python",
   "name": "python3"
  },
  "language_info": {
   "codemirror_mode": {
    "name": "ipython",
    "version": 3
   },
   "file_extension": ".py",
   "mimetype": "text/x-python",
   "name": "python",
   "nbconvert_exporter": "python",
   "pygments_lexer": "ipython3",
   "version": "3.6.4"
  }
 },
 "nbformat": 4,
 "nbformat_minor": 2
}
